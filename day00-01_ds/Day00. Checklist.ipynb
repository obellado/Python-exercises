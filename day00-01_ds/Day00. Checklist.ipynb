{
 "cells": [
  {
   "cell_type": "markdown",
   "metadata": {},
   "source": [
    "# Чек-лист первого дня\n",
    "\n",
    "## Задание 1\n",
    "\n",
    "При проверке данного задания следует уделить внимание двум вопросам:\n",
    "- Февраль месяц формирует неопределенность в количестве дней, следовательно должно быть два ответа - для простого и високосного года;\n",
    "- Правильность выполненных рассчетов.\n",
    "\n",
    "Один из способов решения задания и правильные ответы представлены в ячейке ниже"
   ]
  },
  {
   "cell_type": "code",
   "execution_count": 1,
   "metadata": {},
   "outputs": [
    {
     "name": "stdout",
     "output_type": "stream",
     "text": [
      "('\\xd0\\xa0\\xd0\\xb0\\xd0\\xb1\\xd0\\xbe\\xd1\\x87\\xd0\\xb8\\xd0\\xb9', '1:', 168, '(180', '- \\xd0\\xb2 \\xd0\\xb2\\xd0\\xb8\\xd1\\x81\\xd0\\xbe\\xd0\\xba\\xd0\\xbe\\xd1\\x81\\xd0\\xbd\\xd1\\x8b\\xd0\\xb9)')\n",
      "('\\xd0\\xa0\\xd0\\xb0\\xd0\\xb1\\xd0\\xbe\\xd1\\x87\\xd0\\xb8\\xd0\\xb9', '2:', 168, '(168', '- \\xd0\\xb2 \\xd0\\xb2\\xd0\\xb8\\xd1\\x81\\xd0\\xbe\\xd0\\xba\\xd0\\xbe\\xd1\\x81\\xd0\\xbd\\xd1\\x8b\\xd0\\xb9)')\n",
      "('\\xd0\\xa0\\xd0\\xb0\\xd0\\xb1\\xd0\\xbe\\xd1\\x87\\xd0\\xb8\\xd0\\xb9', '3:', 168, '(168', '- \\xd0\\xb2 \\xd0\\xb2\\xd0\\xb8\\xd1\\x81\\xd0\\xbe\\xd0\\xba\\xd0\\xbe\\xd1\\x81\\xd0\\xbd\\xd1\\x8b\\xd0\\xb9)')\n",
      "('\\xd0\\xa0\\xd0\\xb0\\xd0\\xb1\\xd0\\xbe\\xd1\\x87\\xd0\\xb8\\xd0\\xb9', '4:', 156, '(168', '- \\xd0\\xb2 \\xd0\\xb2\\xd0\\xb8\\xd1\\x81\\xd0\\xbe\\xd0\\xba\\xd0\\xbe\\xd1\\x81\\xd0\\xbd\\xd1\\x8b\\xd0\\xb9)')\n",
      "('\\xd0\\x92\\xd1\\x81\\xd0\\xb5\\xd0\\xb3\\xd0\\xbe:', 660, '(684', '- \\xd0\\xb2 \\xd0\\xb2\\xd0\\xb8\\xd1\\x81\\xd0\\xbe\\xd0\\xba\\xd0\\xbe\\xd1\\x81\\xd0\\xbd\\xd1\\x8b\\xd0\\xb9)')\n"
     ]
    }
   ],
   "source": [
    "d = 28\n",
    "h = 12\n",
    "for j in range(4):\n",
    "    print('Рабочий', str(j+1) + ':', h*((d-j)//4*2+min((d-j)%4,2)), '('+str(h*((d+1-j)//4*2+min((d+1-j)%4,2))), \n",
    "          '- в високосный)')\n",
    "print('Всего:', h*(2*(d-1)+1), '(' + str(h*(2*d+1)), '- в високосный)')"
   ]
  },
  {
   "cell_type": "markdown",
   "metadata": {},
   "source": [
    "Так как к началу решения задачи пример использования циклов не рассматривался, то наличие циклов в решении не является обязательным. Допустимым является решение, в котором для каждого рабочего рассчитывается время его работы, а затем отработанное время суммируется."
   ]
  },
  {
   "cell_type": "markdown",
   "metadata": {},
   "source": [
    "## Задание 2\n",
    "\n",
    "При проверке второго задания следует обратить внимание на следующие элементы:\n",
    "- Правильность решения, т.е. тест после кода должен выдавать сообщение \"Ошибки не выявлены\";\n",
    "- Наличие алгоритма, т.е. код не должен быть простым перебором всех возможных комбинаций, а должен содержать идею по упрощению расчетов;\n",
    "- Сложность алгоритма, т.е. чем менее \"ветвленным\" является алгоритм, тем меньше шансов допустить ошибку. В примере представлена конструкция на основе 7 \"if\" и глубиной два. Можно реализовать задачу еще проще, но для этого потребуется использование списков"
   ]
  },
  {
   "cell_type": "code",
   "execution_count": null,
   "metadata": {},
   "outputs": [],
   "source": [
    "def time_metric_down(time, metric, metric_down):\n",
    "    k = 1\n",
    "    if metric == 'w':\n",
    "        k *= 7\n",
    "        if metric_down != 'd':\n",
    "            metric = 'd'\n",
    "    if metric == 'd':\n",
    "        k *= 24\n",
    "        if metric_down != 'h':\n",
    "            metric = 'h'\n",
    "    if metric == 'h':\n",
    "        k *= 60\n",
    "        if metric_down != 'm':\n",
    "            metric = 'm'\n",
    "    if metric == 'm':\n",
    "        k *= 60\n",
    "    return time*k"
   ]
  },
  {
   "cell_type": "markdown",
   "metadata": {},
   "source": [
    "## Задание 3\n",
    "\n",
    "При проверке задания необходимо обратить внимание:\n",
    "- Реализовано не менее 4 вариантов расчета факториала числа;\n",
    "- Все варианты являются рабочими, т.е. проходят тест после задания;\n",
    "- Выбран действительно самый быстрый способ из разобранных;\n",
    "- Среди разобранных методов присутствует метод на основе функции ***math.factorial()***\n",
    "\n",
    "Ниже приведены три функции нахождения факториала и замер времени их выполнения. Первая функция реализована на основе функции math.factorial и демонстрирует самое высокое быстродействие. Вторая функция реализована на основе рекурсии. Рекурсивный метод применяется для многих задач и достаточно часто позволяет ускорить выполнение кода, но только не в случае расчета факториала - как видно из третьей функции, простой цикл работает быстрее."
   ]
  },
  {
   "cell_type": "code",
   "execution_count": null,
   "metadata": {},
   "outputs": [],
   "source": [
    "import math"
   ]
  },
  {
   "cell_type": "code",
   "execution_count": null,
   "metadata": {},
   "outputs": [],
   "source": [
    "%%timeit\n",
    "def n_factorial(n):\n",
    "    return math.factorial(n)\n",
    "\n",
    "n_factorial(1000)"
   ]
  },
  {
   "cell_type": "code",
   "execution_count": null,
   "metadata": {},
   "outputs": [],
   "source": [
    "%%timeit\n",
    "def n_factorial(n):\n",
    "    if n == 0:\n",
    "        return 1\n",
    "    return n*n_factorial(n-1)\n",
    "\n",
    "n_factorial(1000)"
   ]
  },
  {
   "cell_type": "code",
   "execution_count": null,
   "metadata": {},
   "outputs": [],
   "source": [
    "%%timeit\n",
    "def n_factorial(n):\n",
    "    f = 1\n",
    "    if n == 0 or n == 1:\n",
    "        return 1\n",
    "    for j in range(2,n+1):\n",
    "        f *= j\n",
    "    return f\n",
    "\n",
    "n_factorial(1000)"
   ]
  },
  {
   "cell_type": "markdown",
   "metadata": {},
   "source": [
    "## Задание 4\n",
    "\n",
    "При проверке задания следует обратить внимание:\n",
    "- Совместимость функций, для этого необходимо в своем коде заменить вначале функции get на проверяемые и запустить код, затем функции month и day и запустить код;\n",
    "- Правильность вычислений;\n",
    "- Количество запросов, необходимых для нахождения даты;\n",
    "- Соответствие вывода результата требованиям.\n",
    "\n",
    "В ячейке ниже представлен пример реализации функций.\n",
    "Для тестирования на правильность результата и количество запросов используйте последнюю ячейку с кодом ноутбука. Вам потребуется вставить в ячейку проверяемые функции get"
   ]
  },
  {
   "cell_type": "code",
   "execution_count": null,
   "metadata": {},
   "outputs": [],
   "source": [
    "\"\"\"Пример реализации\"\"\"\n",
    "\n",
    "number_of_month = 5\n",
    "number_of_day = 31\n",
    "\n",
    "def month_of_birth(month, m_o_b = number_of_month):\n",
    "    if month == m_o_b:\n",
    "        say = 'да'\n",
    "    elif month > m_o_b:\n",
    "        say = 'раньше'\n",
    "    else:\n",
    "        say = 'позже'\n",
    "    return say\n",
    "    \n",
    "def day_of_birth(day, d_o_b = number_of_day):\n",
    "    if day == d_o_b:\n",
    "        say = 'да'\n",
    "    elif day > d_o_b:\n",
    "        say = 'раньше'\n",
    "    else:\n",
    "        say = 'позже'\n",
    "    return say\n",
    "    \n",
    "def get_month():\n",
    "    l, r = 1, 12\n",
    "    m = 6\n",
    "    reply = month_of_birth(m)\n",
    "    while reply != 'да':\n",
    "        if reply == 'раньше':\n",
    "            r = m-1\n",
    "        else:\n",
    "            l = m+1\n",
    "        m = (l+r)//2\n",
    "        reply = month_of_birth(m)\n",
    "    month = ['января', 'февраля', 'марта', 'апреля', 'мая', 'июня', 'июля', 'августа', 'сентября', 'октября', \n",
    "             'ноября', 'декабря']\n",
    "    return month[m-1]\n",
    "    \n",
    "def get_day():\n",
    "    l, r = 1, 31\n",
    "    d = 15\n",
    "    reply = day_of_birth(d)\n",
    "    while reply != 'да':\n",
    "        if reply == 'раньше':\n",
    "            r = d-1\n",
    "        else:\n",
    "            l = d+1\n",
    "        d = (l+r)//2\n",
    "        reply = day_of_birth(d)\n",
    "    return d\n",
    "    \n",
    "def birthday():\n",
    "    print(get_day(), get_month())\n",
    "    \n",
    "birthday()"
   ]
  },
  {
   "cell_type": "code",
   "execution_count": null,
   "metadata": {},
   "outputs": [],
   "source": [
    "\"\"\"Ячейка тестирования\"\"\"\n",
    "\n",
    "def month_of_birth(month):\n",
    "    global N, number_of_month\n",
    "    m_o_b = number_of_month\n",
    "    N += 1\n",
    "    if month == m_o_b:\n",
    "        say = 'да'\n",
    "    elif month > m_o_b:\n",
    "        say = 'раньше'\n",
    "    else:\n",
    "        say = 'позже'\n",
    "    return say\n",
    "    \n",
    "def day_of_birth(day):\n",
    "    global N, number_of_day\n",
    "    d_o_b = number_of_day\n",
    "    N+=1\n",
    "    if day == d_o_b:\n",
    "        say = 'да'\n",
    "    elif day > d_o_b:\n",
    "        say = 'раньше'\n",
    "    else:\n",
    "        say = 'позже'\n",
    "    return say\n",
    "\n",
    "\"\"\"Вставьте проверяемую функцию get_month()\"\"\"\n",
    "def get_month():\n",
    "\n",
    "\"\"\"Вставьте проверяемую функцию get_day()\"\"\"\n",
    "def get_day():\n",
    "\n",
    "def birthday():                    \n",
    "    return get_day(), get_month()\n",
    "    \n",
    "s = [31, 29, 31, 30, 31, 30, 31, 31, 30, 31, 30, 31]\n",
    "N = 0\n",
    "maxN, meanN = 0, 0\n",
    "month = ['января', 'февраля', 'марта', 'апреля', 'мая', 'июня', 'июля', 'августа', 'сентября', 'октября', 'ноября', \n",
    "         'декабря']\n",
    "for i in range(1,13):\n",
    "    for j in range(1, s[i-1]+1):\n",
    "        number_of_month = i\n",
    "        number_of_day = j\n",
    "        d, m = birthday()\n",
    "        if d != j or m != month[i-1]:\n",
    "            print('Выявлена ошибка на дату', j, month[i-1])\n",
    "        maxN = max(maxN,N)\n",
    "        meanN += N\n",
    "        N = 0\n",
    "print('Максимум', maxN, 'запросов,', 'в среднем', round(meanN/366, 2), 'запросов на определение даты')"
   ]
  },
  {
   "cell_type": "markdown",
   "metadata": {},
   "source": [
    "## Дополнительные баллы\n",
    "\n",
    "Вы можете дополнительно оценить работу по следующим параметрам:\n",
    "1. Офформление работы, наличие комментариев, красивый вывод результатов.\n",
    "2. Наличие в третьем задании более 4 методов.\n",
    "3. Наличие интересных алгоритмических решений.\n"
   ]
  }
 ],
 "metadata": {
  "kernelspec": {
   "display_name": "Python 2",
   "language": "python",
   "name": "python2"
  },
  "language_info": {
   "codemirror_mode": {
    "name": "ipython",
    "version": 2
   },
   "file_extension": ".py",
   "mimetype": "text/x-python",
   "name": "python",
   "nbconvert_exporter": "python",
   "pygments_lexer": "ipython2",
   "version": "2.7.16"
  }
 },
 "nbformat": 4,
 "nbformat_minor": 4
}
